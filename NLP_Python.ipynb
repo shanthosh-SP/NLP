
    {
      "cell_type": "code",
      "metadata": {
        "id": "ZINs2hG-bKGb"
      },
      "source": [
        "import pandas as pd\n",
        "import numpy as np\n",
        "# Load Data Viz Pkgs\n",
        "import seaborn as sns\n",
        "\n",
        "# Load Text Cleaning Pkgs\n",
        "import neattext.functions as nfx\n",
        "\n",
        "from sklearn.linear_model import LogisticRegression\n",
        "from sklearn.naive_bayes import MultinomialNB\n",
        "\n",
        "# Transformers\n",
        "from sklearn.feature_extraction.text import CountVectorizer\n",
        "from sklearn.model_selection import train_test_split\n",
        "from sklearn.metrics import accuracy_score,classification_report,confusion_matrix"
      ],
      "execution_count": 5,
      "outputs": []
    },
    {
      "cell_type": "code",
      "metadata": {
        "id": "9jZg6n-ncJhq",
        "outputId": "73c0d458-8584-4562-d4ad-36076de30d32",
        "colab": {
          "base_uri": "https://localhost:8080/",
          "height": 279
        }
      },
      "source": [
        "df = pd.read_csv(\"/content/NLP_TEXT.csv\")\n",
        "\n",
        "df.head()\n",
        "\n",
        "df['Emotion'].value_counts()\n",
        "sns.countplot(x='Emotion',data=df)\n",
        "\n",
        "\n",
        "df['Clean_Text'] = df['Text'].apply(nfx.remove_userhandles)\n",
        "\n",
        "# Stopwords\n",
        "df['Clean_Text'] = df['Clean_Text'].apply(nfx.remove_stopwords)\n",
        "\n",
        "\n",
        "\n",
        "# Features & Labels\n",
        "Xfeatures = df['Clean_Text']\n",
        "ylabels = df['Emotion']\n",
        "\n",
        "#  Split Data\n",
        "x_train,x_test,y_train,y_test = train_test_split(Xfeatures,ylabels,test_size=0.3,random_state=42)"
      ],
      "execution_count": 6,
      "outputs": [
        {
          "output_type": "display_data",
          "data": {
            "image/png": "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\n",
            "text/plain": [
              "<Figure size 432x288 with 1 Axes>"
            ]
          },
          "metadata": {
            "tags": [],
            "needs_background": "light"
          }
        }
      ]
    },
    {
      "cell_type": "code",
      "metadata": {
        "id": "H0Nh6Im4cVTR",
        "outputId": "ae5e561d-743f-4363-d7b0-e52f12170373",
        "colab": {
          "base_uri": "https://localhost:8080/"
        }
      },
      "source": [
        "# Build Pipeline\n",
        "from sklearn.pipeline import Pipeline\n",
        "\n",
        "# LogisticRegression Pipeline\n",
        "pipe_lr = Pipeline(steps=[('cv',CountVectorizer()),('lr',LogisticRegression())])\n",
        "\n",
        "# Train and Fit Data\n",
        "pipe_lr.fit(x_train,y_train)\n",
        "\n",
        "\n",
        "\n",
        "\n",
        "Pipeline(steps=[('cv', CountVectorizer()), ('lr', LogisticRegression())])\n",
        "\n",
        "# Check Accuracy\n"
      ],
      "execution_count": 10,
      "outputs": [
        {
          "output_type": "stream",
          "text": [
            "/usr/local/lib/python3.7/dist-packages/sklearn/linear_model/_logistic.py:940: ConvergenceWarning: lbfgs failed to converge (status=1):\n",
            "STOP: TOTAL NO. of ITERATIONS REACHED LIMIT.\n",
            "\n",
            "Increase the number of iterations (max_iter) or scale the data as shown in:\n",
            "    https://scikit-learn.org/stable/modules/preprocessing.html\n",
            "Please also refer to the documentation for alternative solver options:\n",
            "    https://scikit-learn.org/stable/modules/linear_model.html#logistic-regression\n",
            "  extra_warning_msg=_LOGISTIC_SOLVER_CONVERGENCE_MSG)\n"
          ],
          "name": "stderr"
        },
        {
          "output_type": "execute_result",
          "data": {
            "text/plain": [
              "Pipeline(memory=None,\n",
              "         steps=[('cv',\n",
              "                 CountVectorizer(analyzer='word', binary=False,\n",
              "                                 decode_error='strict',\n",
              "                                 dtype=<class 'numpy.int64'>, encoding='utf-8',\n",
              "                                 input='content', lowercase=True, max_df=1.0,\n",
              "                                 max_features=None, min_df=1,\n",
              "                                 ngram_range=(1, 1), preprocessor=None,\n",
              "                                 stop_words=None, strip_accents=None,\n",
              "                                 token_pattern='(?u)\\\\b\\\\w\\\\w+\\\\b',\n",
              "                                 tokenizer=None, vocabulary=None)),\n",
              "                ('lr',\n",
              "                 LogisticRegression(C=1.0, class_weight=None, dual=False,\n",
              "                                    fit_intercept=True, intercept_scaling=1,\n",
              "                                    l1_ratio=None, max_iter=100,\n",
              "                                    multi_class='auto', n_jobs=None,\n",
              "                                    penalty='l2', random_state=None,\n",
              "                                    solver='lbfgs', tol=0.0001, verbose=0,\n",
              "                                    warm_start=False))],\n",
              "         verbose=False)"
            ]
          },
          "metadata": {
            "tags": []
          },
          "execution_count": 10
        }
      ]
    },
    {
      "cell_type": "code",
      "metadata": {
        "id": "XR7NKyWWdVsy",
        "outputId": "d3aa95f8-8a79-4c66-d0b2-85f445984542",
        "colab": {
          "base_uri": "https://localhost:8080/"
        }
      },
      "source": [
        "pipe_lr"
      ],
      "execution_count": 11,
      "outputs": [
        {
          "output_type": "execute_result",
          "data": {
            "text/plain": [
              "Pipeline(memory=None,\n",
              "         steps=[('cv',\n",
              "                 CountVectorizer(analyzer='word', binary=False,\n",
              "                                 decode_error='strict',\n",
              "                                 dtype=<class 'numpy.int64'>, encoding='utf-8',\n",
              "                                 input='content', lowercase=True, max_df=1.0,\n",
              "                                 max_features=None, min_df=1,\n",
              "                                 ngram_range=(1, 1), preprocessor=None,\n",
              "                                 stop_words=None, strip_accents=None,\n",
              "                                 token_pattern='(?u)\\\\b\\\\w\\\\w+\\\\b',\n",
              "                                 tokenizer=None, vocabulary=None)),\n",
              "                ('lr',\n",
              "                 LogisticRegression(C=1.0, class_weight=None, dual=False,\n",
              "                                    fit_intercept=True, intercept_scaling=1,\n",
              "                                    l1_ratio=None, max_iter=100,\n",
              "                                    multi_class='auto', n_jobs=None,\n",
              "                                    penalty='l2', random_state=None,\n",
              "                                    solver='lbfgs', tol=0.0001, verbose=0,\n",
              "                                    warm_start=False))],\n",
              "         verbose=False)"
            ]
          },
          "metadata": {
            "tags": []
          },
          "execution_count": 11
        }
      ]
    },
    {
      "cell_type": "code",
      "metadata": {
        "id": "Y5U2kluxdULh"
      },
      "source": [
        "pipe_lr.score(x_test,y_test)\n",
        "\n",
        "\n",
        "# Make A Prediction\n",
        "ex1 = \"Valimai Naage Vera Mari is So Enjoyable and Fans are very happy\"\n",
        "\n",
        "pipe_lr.predict([ex1])\n",
        "\n",
        "\n",
        "# Prediction Prob\n",
        "pipe_lr.predict_proba([ex1])\n",
        "\n",
        "\n",
        "# To Know the classes\n",
        "pipe_lr.classes_\n",
        "\n",
        "\n",
        "# Save Model & Pipeline\n",
        "import joblib\n",
        "pipeline_file = open(\"NLP_Model.pkl\",\"wb\")\n",
        "joblib.dump(pipe_lr,pipeline_file)\n",
        "pipeline_file.close()"
      ],
      "execution_count": 12,
      "outputs": []
    }
  ]
}
